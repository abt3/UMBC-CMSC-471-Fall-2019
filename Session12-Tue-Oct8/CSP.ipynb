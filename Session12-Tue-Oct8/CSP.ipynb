{
 "cells": [
  {
   "cell_type": "markdown",
   "metadata": {
    "slideshow": {
     "slide_type": "slide"
    }
   },
   "source": [
    "#### <h1><center>CMSC 471: Introduction to Artificial Intelligence</center></h1>\n",
    "\n",
    "<center><img src=\"img/title.jpeg\" align=\"center\"/></center>\n",
    "\n",
    "\n",
    "<h3 style=\"color:blue;\"><center>Instructor: Fereydoon Vafaei</center></h3>\n",
    "\n",
    "\n",
    "<h5 style=\"color:purple;\"><center>Chapter 6 - Constraint Satisfaction Problems</center></h5>\n",
    "\n",
    "<center><img src=\"img/UMBC_logo.png\" align=\"center\"/></center>"
   ]
  },
  {
   "cell_type": "markdown",
   "metadata": {
    "slideshow": {
     "slide_type": "slide"
    }
   },
   "source": [
    "<h1><center>Agenda</center></h1>\n",
    "\n",
    "- <b> Chapter 6: Constraint Satisfaction Problems</b>\n",
    "- <b> Learning Objectives:</b>\n",
    "* CSP Definition\n",
    "* CSP Motivation\n",
    "* CSP Solving: Backtracking Algorithm"
   ]
  },
  {
   "cell_type": "markdown",
   "metadata": {
    "slideshow": {
     "slide_type": "subslide"
    }
   },
   "source": [
    "- <b>Reminders:</b>\n",
    "    - Quiz 5 Due Tue Oct 8.\n",
    "    - Quiz 6 Due Tue Oct 17."
   ]
  },
  {
   "cell_type": "markdown",
   "metadata": {
    "slideshow": {
     "slide_type": "fragment"
    }
   },
   "source": [
    "- [Assignment 2 \"Games\"](https://nbviewer.jupyter.org/github/fereydoonvafaei/UMBC-CMSC-471-Fall-2019/blob/master/Assignment-2/Assignment-2.0.ipynb)- Due Thu Oct 10 11:59PM."
   ]
  },
  {
   "cell_type": "markdown",
   "metadata": {
    "slideshow": {
     "slide_type": "fragment"
    }
   },
   "source": [
    "    - Schedule and reading assignments for this week (Oct 7 - Oct 13):\n",
    "    Chapter 6 \"Constraint Satisfaction Problems\" & Chapter 7 \"Logical Agents\".\n",
    "    - Schedule and reading assignments for next week (Oct 14 - Oct 20):\n",
    "    Chapter 8 \"First-Order Logic\""
   ]
  },
  {
   "cell_type": "markdown",
   "metadata": {
    "slideshow": {
     "slide_type": "slide"
    }
   },
   "source": [
    "<h1><center>Chapter 6: Constraint Satisfaction Problems</center></h1>\n",
    "\n",
    "<h3><center>CSP</center></h3>\n",
    "\n",
    "<h7><center>\"In which we see how treating states as more than just little black boxes leads to the invention of a range of powerful new search methods and a deeper understanding of problem structure and complexity.\"</center></h7>"
   ]
  },
  {
   "cell_type": "markdown",
   "metadata": {
    "slideshow": {
     "slide_type": "slide"
    }
   },
   "source": [
    "<h1><center>From Chapter 2: Factored Representation of States</center></h1>\n",
    "\n",
    "<center><img src=\"img/atomic.png\" align=\"center\"/></center>\n",
    "\n",
    "Figure 2.16 from Russel & Norvig Textbook"
   ]
  },
  {
   "cell_type": "markdown",
   "metadata": {
    "slideshow": {
     "slide_type": "slide"
    }
   },
   "source": [
    "<h1><center>Definition of CSP</center></h1>\n",
    "\n",
    "  * $X$ is a set of variables $\\{X_1, X_2, ... X_n\\}$\n",
    "  \n",
    "  \n",
    "  * $D$ is a set of domains $\\{D_1, D_2, ... D_n\\}$, one for each variable\n",
    "  \n",
    "  \n",
    "  * Each domain $D_i$ consists of a set of allowable values $\\{v_1, v_2, ... v_k\\}$\n",
    "  \n",
    "  \n",
    "  * $C$ is a set of constraints $\\{C_1, C_2, ... C_m\\}$ that specify allowable combinations of values\n",
    "  \n",
    "  \n",
    "  * **Solution**: assignment of values to all variables (complete) such that no constraint is violated (consistent).\n",
    "  \n",
    "  \n",
    "  * A solution must be a <b>complete</b> and <b>consistent</b> assignment."
   ]
  },
  {
   "cell_type": "markdown",
   "metadata": {
    "slideshow": {
     "slide_type": "slide"
    }
   },
   "source": [
    "<h1><center>CSP Example: Map Coloring</center></h1>\n",
    "\n",
    "<center><img src=\"img/map-color.jpg\" align=\"center\"/></center>\n",
    "\n",
    "From Russel & Norvig Textbook"
   ]
  },
  {
   "cell_type": "markdown",
   "metadata": {
    "slideshow": {
     "slide_type": "slide"
    }
   },
   "source": [
    "<h1><center>CSP Example: Map Coloring</center></h1>\n",
    "\n",
    "* $X$ is a set of variables $\\{{WA}, {NT}, Q, {NSW}, V, {SA}, T\\}$\n",
    "* $D$ is a set of domains $\\{D_{WA}, D_{NT}, D_Q, D_{NSW}, D_V, D_{SA}, D_T\\}$, one for each variable\n",
    "* Each domain $D_i$ consists of a set of allowable values $\\{red, green, blue\\}$\n",
    "* $C$ is a set of constraints $\\{SA\\neq {WA}, SA\\neq NT, SA\\neq Q, SA\\neq NSW, SA\\neq V, WA\\neq NT, NT\\neq Q, Q\\neq NSW, NSW\\neq V\\}$ that specify allowable combinations of of values\n",
    "\n",
    "* One example solution: $\\{{WA} = red, {NT}=green, Q=red, {NSW}=green, V=red, {SA}=blue, T=green \\}$"
   ]
  },
  {
   "cell_type": "markdown",
   "metadata": {
    "slideshow": {
     "slide_type": "slide"
    }
   },
   "source": [
    "<h1><center>Why CSP?</center></h1>\n",
    "\n",
    "- <font color=\"blue\"><b>Brute forcing</b></font> means trial and error on all possible configurations and is a costly strategy.\n",
    "\n",
    "\n",
    "- CSP provides a natural representation for a wide variety of problems such as 8-queens, map coloring, job scheduling, course assignment, etc. \n",
    "\n",
    "\n",
    "- CSP solvers can be faster than state-space searchers because the CSP solver can quickly eliminate large swatches of the search space.\n",
    "\n",
    "\n",
    "- For map coloring of Australia map without CSP, we have to consider $3^5 = 243$ assignments for the five neighboring variables; with CSP however, we have only $2^5=32$ assignments to look at, a reduction of $87\\%$!"
   ]
  },
  {
   "cell_type": "markdown",
   "metadata": {
    "slideshow": {
     "slide_type": "slide"
    }
   },
   "source": [
    "<h1><center>Why CSP?</center></h1>\n",
    "\n",
    "- With $n$ variables where each can have one of 3 values, there are $3^n$ possible assignments to check.\n",
    "\n",
    "- Consider map coloring of the world map with 190 countries with 4 colors. There are $4^{190}$ assignments!\n",
    "\n",
    "- How big is this number? $4^{190}$ http://www.pollev.com/fvafaei500"
   ]
  },
  {
   "cell_type": "markdown",
   "metadata": {
    "slideshow": {
     "slide_type": "fragment"
    }
   },
   "source": [
    "$4^{190}$ has 115 digits: 2462625387274654950767440006258975862817483704404090416746768337765357610718575663213391640930307227550414249394176L"
   ]
  },
  {
   "cell_type": "markdown",
   "metadata": {
    "slideshow": {
     "slide_type": "slide"
    }
   },
   "source": [
    "<h1><center>CSP Example: 8-Queens</center></h1>\n",
    "\n",
    "- Place 8 queens on a chess board such that none is attacking another.\n",
    "\n",
    "- $8^8$ is 16,777,216\n",
    "\n",
    "<center><img src=\"img/8queens.png\" align=\"center\"/></center>\n",
    "\n",
    "From Russel & Norvig Textbook"
   ]
  },
  {
   "cell_type": "markdown",
   "metadata": {
    "slideshow": {
     "slide_type": "slide"
    }
   },
   "source": [
    "<h1><center>CSP Example: 8-Queens</center></h1>\n",
    "\n",
    "- After placing these two queens, it’s trivial to mark the squares we can no longer use.\n",
    "\n",
    "<center><img src=\"img/8queens-1.png\" align=\"center\"/></center>\n",
    "\n",
    "Image from Dr. Finin"
   ]
  },
  {
   "cell_type": "markdown",
   "metadata": {
    "slideshow": {
     "slide_type": "slide"
    }
   },
   "source": [
    "<h1><center>CSP Example: 8-Queens - Constraint Propagation</center></h1>\n",
    "\n",
    "<center><img src=\"img/8queens-2.png\" align=\"center\"/></center>\n",
    "\n",
    "Image from Dr. Finin"
   ]
  },
  {
   "cell_type": "markdown",
   "metadata": {
    "slideshow": {
     "slide_type": "slide"
    }
   },
   "source": [
    "<h1><center>CSP Example: 8-Queens</center></h1>\n",
    "\n",
    "- Eight variables $Q_i$, $i = \\{1..8\\}$ where $Q_i$ is the row number of queen in column $i$"
   ]
  },
  {
   "cell_type": "markdown",
   "metadata": {
    "slideshow": {
     "slide_type": "fragment"
    }
   },
   "source": [
    "- Domain for each variable $\\{1,2,...,8\\}$"
   ]
  },
  {
   "cell_type": "markdown",
   "metadata": {
    "slideshow": {
     "slide_type": "fragment"
    }
   },
   "source": [
    "- Constraints are of the forms: No queens on the same row.  "
   ]
  },
  {
   "cell_type": "markdown",
   "metadata": {
    "slideshow": {
     "slide_type": "fragment"
    }
   },
   "source": [
    "$Q_i=k \\implies Qj\\neq k$ $ \\quad for j = \\{1..8, j\\neq i\\}$"
   ]
  },
  {
   "cell_type": "markdown",
   "metadata": {
    "slideshow": {
     "slide_type": "fragment"
    }
   },
   "source": [
    "- No queens on same diagonal. Can you write this constraint with a 1-line inference?"
   ]
  },
  {
   "cell_type": "markdown",
   "metadata": {
    "slideshow": {
     "slide_type": "fragment"
    }
   },
   "source": [
    "$Q_i=row_i, Qj=row_j \\implies |{i-j}|\\neq |{row_i - row_j}| \\quad for j = \\{1..8\\}, j\\neq i$"
   ]
  },
  {
   "cell_type": "markdown",
   "metadata": {
    "slideshow": {
     "slide_type": "slide"
    }
   },
   "source": [
    "<h1><center>Cryptharithmetic Puzzles</center></h1>\n",
    "\n",
    "<center><img src=\"img/cryptharithmetic.png\" align=\"center\"/></center>\n",
    "\n",
    "Image from Russel & Norvig textbook."
   ]
  },
  {
   "cell_type": "markdown",
   "metadata": {
    "slideshow": {
     "slide_type": "slide"
    }
   },
   "source": [
    "<h1><center>Solving CSP - Backtracking</center></h1>\n",
    "\n",
    "- Applies a standard DFS\n",
    "\n",
    "- A state would be a prtial assignment, and an action would be adding `var = value` to the assignment.\n",
    "\n",
    "- Chooses values for one variable at a time and backtracks when a variable has no legal values letf to assign.\n",
    "\n",
    "- Returns a solution or a failure."
   ]
  },
  {
   "cell_type": "markdown",
   "metadata": {
    "slideshow": {
     "slide_type": "slide"
    }
   },
   "source": [
    "<h1><center>Backtracking Algorithm</center></h1>\n",
    "\n",
    "<center><img src=\"img/backtracking-algo.png\" align=\"center\"/></center>\n",
    "\n",
    "From Russel & Norvig Textbook"
   ]
  },
  {
   "cell_type": "markdown",
   "metadata": {
    "slideshow": {
     "slide_type": "slide"
    }
   },
   "source": [
    "<h1><center>Solving CSP - Backtracking Example</center></h1>\n",
    "\n",
    "<center><img src=\"img/backtracking-1.png\" align=\"center\"/></center>"
   ]
  },
  {
   "cell_type": "markdown",
   "metadata": {
    "slideshow": {
     "slide_type": "slide"
    }
   },
   "source": [
    "<h1><center>Solving CSP - Backtracking Example</center></h1>\n",
    "\n",
    "<center><img src=\"img/backtracking-2.png\" align=\"center\"/></center>"
   ]
  },
  {
   "cell_type": "markdown",
   "metadata": {
    "slideshow": {
     "slide_type": "slide"
    }
   },
   "source": [
    "<h1><center>Solving CSP - Backtracking Example</center></h1>\n",
    "\n",
    "<center><img src=\"img/backtracking-3.png\" align=\"center\"/></center>"
   ]
  },
  {
   "cell_type": "markdown",
   "metadata": {
    "slideshow": {
     "slide_type": "slide"
    }
   },
   "source": [
    "<h1><center>Solving CSP - Backtracking Example</center></h1>\n",
    "\n",
    "<center><img src=\"img/backtracking-4.png\" align=\"center\"/></center>"
   ]
  },
  {
   "cell_type": "markdown",
   "metadata": {
    "slideshow": {
     "slide_type": "slide"
    }
   },
   "source": [
    "<h1><center>Solving CSP - Backtracking Example</center></h1>\n",
    "\n",
    "<center><img src=\"img/backtracking-5.png\" align=\"center\"/></center>"
   ]
  },
  {
   "cell_type": "markdown",
   "metadata": {
    "slideshow": {
     "slide_type": "slide"
    }
   },
   "source": [
    "<h1><center>Solving CSP - Backtracking Example</center></h1>\n",
    "\n",
    "<center><img src=\"img/backtracking-5.png\" align=\"center\"/></center>"
   ]
  },
  {
   "cell_type": "markdown",
   "metadata": {
    "slideshow": {
     "slide_type": "slide"
    }
   },
   "source": [
    "<h1><center>Improving Backtracking Efficiency</center></h1>\n",
    "\n",
    "Here are some standard techniques to improve the efficiency of backtracking:\n",
    "\n",
    "- Can we detect inevitable failure early? <b>Forward checking</b>.\n",
    "\n",
    "\n",
    "- Which variable should be assigned next? <b>Most constrained variable (aka Mimimum Remianing Values or MRV) & Most constraining variable</b>.\n",
    "\n",
    "\n",
    "- In what order should its values be tried? <b>Least constraining value</b>."
   ]
  },
  {
   "cell_type": "markdown",
   "metadata": {
    "slideshow": {
     "slide_type": "slide"
    }
   },
   "source": [
    "<h1><center>Forward Checking</center></h1>\n",
    "\n",
    "- Keep track of remaining legal values for unassigned variables.\n",
    "\n",
    "\n",
    "- Terminate search when any variable has no legal values.\n",
    "\n",
    "\n",
    "- After variable $X$ is assigned to value $v$, examine each unassigned variable $Y$ connected to $X$ by a constraint and delete values from $Y$’s domain inconsistent with $v$."
   ]
  },
  {
   "cell_type": "markdown",
   "metadata": {
    "slideshow": {
     "slide_type": "slide"
    }
   },
   "source": [
    "<h1><center>Forward Checking Example</center></h1>\n",
    "\n",
    "<center><img src=\"img/forward-checking-1.png\" align=\"center\"/></center>"
   ]
  },
  {
   "cell_type": "markdown",
   "metadata": {
    "slideshow": {
     "slide_type": "slide"
    }
   },
   "source": [
    "<h1><center>Forward Checking Example</center></h1>\n",
    "\n",
    "<center><img src=\"img/forward-checking-2.png\" align=\"center\"/></center>"
   ]
  },
  {
   "cell_type": "markdown",
   "metadata": {
    "slideshow": {
     "slide_type": "slide"
    }
   },
   "source": [
    "<h1><center>Forward Checking Example</center></h1>\n",
    "\n",
    "<center><img src=\"img/forward-checking-3.png\" align=\"center\"/></center>"
   ]
  },
  {
   "cell_type": "markdown",
   "metadata": {
    "slideshow": {
     "slide_type": "slide"
    }
   },
   "source": [
    "<h1><center>Forward Checking Example</center></h1>\n",
    "\n",
    "<center><img src=\"img/forward-checking-4.png\" align=\"center\"/></center>"
   ]
  },
  {
   "cell_type": "markdown",
   "metadata": {
    "slideshow": {
     "slide_type": "slide"
    }
   },
   "source": [
    "<h1><center>Most Constrained Variable</center></h1>\n",
    "\n",
    "<center><img src=\"img/MRV.png\"></center>\n",
    "\n",
    "\n",
    "- Choose the variable with the fewest legal values.\n",
    "\n",
    "\n",
    "- a.k.a. Minimum Remaining Values (<b>MRV</b>) heuristic.\n",
    "\n",
    "\n",
    "- After assigning value to WA, both NT and SA have only two values in their domains – choose one of them rather than Q, NSW, V or T"
   ]
  },
  {
   "cell_type": "markdown",
   "metadata": {
    "slideshow": {
     "slide_type": "slide"
    }
   },
   "source": [
    "<h1><center>Most Constraining Variable</center></h1>\n",
    "\n",
    "<center><img src=\"img/MCV.png\"></center>\n",
    "\n",
    "\n",
    "- Tie-breaker among most constrained variables.\n",
    "\n",
    "\n",
    "- Choose variable involved in largest # of constraints on remaining variables.\n",
    "\n",
    "\n",
    "- After assigning SA to be blue, WA, NT, Q, NSW and V all have just two values left.\n",
    "\n",
    "\n",
    "- WA and V have only one constraint on remaining variables and T none, so choose one of NT, Q & NSW"
   ]
  },
  {
   "cell_type": "markdown",
   "metadata": {
    "slideshow": {
     "slide_type": "slide"
    }
   },
   "source": [
    "<h1><center>Least Constraining Values</center></h1>\n",
    "\n",
    "<center><img src=\"img/LCV.png\"></center>\n",
    "\n",
    "- Given a variable, choose least constraining value – the one that rules out the fewest values in the remaining variables.\n",
    "\n",
    "- In this example, choose value $red$ instead of $blue$ for Q, because choosing $blue$ for Q would leave no value left for SA"
   ]
  },
  {
   "cell_type": "markdown",
   "metadata": {
    "slideshow": {
     "slide_type": "slide"
    }
   },
   "source": [
    "<h1><center>Arc Consistency - Definition</center></h1>\n",
    "\n",
    "- A constraint C_xy is arc consistent w.r.t. x if for each value $v$ in the domain of x, there is an allowed value of y\n",
    "\n",
    "\n",
    "- Similarly, define C_xy as arc consistent w.r.t. y\n",
    "\n",
    "\n",
    "- Binary CSP is arc consistent iff every constraint C_xy is arc consistent w.r.t. x as well as y\n",
    "\n",
    "\n",
    "- When a CSP is not arc consistent, we might be able to make it arc consistent by using the AC3 algorithm – also called enforcing arc consistency.\n",
    "\n",
    "- Like backtracking, there is no guarantee for AC3 to find a consistent solution."
   ]
  },
  {
   "cell_type": "markdown",
   "metadata": {
    "slideshow": {
     "slide_type": "slide"
    }
   },
   "source": [
    "<h1><center>Arc Consistency - Example 1</center></h1>\n",
    "\n",
    "<center><img src=\"img/arc-consistency.png\"></center>\n",
    "\n",
    "- Domains:\n",
    "- $D_x = \\{1, 2, 3\\}$\n",
    "\n",
    "- $D_y = \\{3, 4, 5, 6\\}$\n",
    "\n",
    "- Constraint: C_xy $= \\{(1,3), (1,5), (3,3), (3,6)\\}$\n",
    "\n",
    "- Note: for finite domains, we can represent a constraint as a set of legal value pairs (tuples)."
   ]
  },
  {
   "cell_type": "markdown",
   "metadata": {
    "slideshow": {
     "slide_type": "fragment"
    }
   },
   "source": [
    "- C_xy isn’t arc consistent w.r.t. x or y. However, By enforcing arc consistency, we get reduced domains that make it arc consistent:\n",
    "\n",
    "\n",
    "- $D'_x = \\{1, 3\\}$\n",
    "- $D'_y=\\{3, 5, 6\\}$"
   ]
  },
  {
   "cell_type": "markdown",
   "metadata": {
    "slideshow": {
     "slide_type": "slide"
    }
   },
   "source": [
    "<h1><center>Arc Consistency - Example 2</center></h1>\n",
    "\n",
    "<center><img src=\"img/arc-consistency.png\"></center>\n",
    "\n",
    "- Domains:\n",
    "- $D_x = \\{1, 2, 3\\}$\n",
    "\n",
    "- $D_y = \\{1, 2, 3\\}$\n",
    "\n",
    "- Constraint: C_xy `= lambda v1,v2: v1 < v2`\n",
    "\n",
    "- Note: `lambda` is a Python anonymous function."
   ]
  },
  {
   "cell_type": "code",
   "execution_count": 14,
   "metadata": {
    "slideshow": {
     "slide_type": "slide"
    }
   },
   "outputs": [
    {
     "name": "stdout",
     "output_type": "stream",
     "text": [
      "True\n",
      "False\n"
     ]
    }
   ],
   "source": [
    "# Representing a CSP constraint using Python lambda function\n",
    "\n",
    "C_xy = lambda x,y: x < y\n",
    "\n",
    "print(C_xy(100,200))\n",
    "\n",
    "print(C_xy(200,100))"
   ]
  },
  {
   "cell_type": "code",
   "execution_count": 1,
   "metadata": {
    "slideshow": {
     "slide_type": "slide"
    }
   },
   "outputs": [
    {
     "data": {
      "text/plain": [
       "[{'a': 3, 'b': 6}, {'a': 2, 'b': 4}]"
      ]
     },
     "execution_count": 1,
     "metadata": {},
     "output_type": "execute_result"
    }
   ],
   "source": [
    "# Python CSP module - https://github.com/python-constraint/python-constraint\n",
    "\n",
    "from constraint import *\n",
    "\n",
    "problem = Problem()\n",
    "problem.addVariable(\"a\", [1,2,3])\n",
    "problem.addVariable(\"b\", [4,5,6])\n",
    "\n",
    "problem.addConstraint(lambda a, b: a*2 == b, (\"a\", \"b\"))\n",
    "\n",
    "problem.getSolutions()"
   ]
  },
  {
   "cell_type": "code",
   "execution_count": 2,
   "metadata": {
    "slideshow": {
     "slide_type": "slide"
    }
   },
   "outputs": [
    {
     "data": {
      "text/plain": [
       "[{'a': 3, 'b': 2},\n",
       " {'a': 3, 'b': 1},\n",
       " {'a': 2, 'b': 3},\n",
       " {'a': 2, 'b': 1},\n",
       " {'a': 1, 'b': 2},\n",
       " {'a': 1, 'b': 3}]"
      ]
     },
     "execution_count": 2,
     "metadata": {},
     "output_type": "execute_result"
    }
   ],
   "source": [
    "problem = Problem()\n",
    "problem.addVariables([\"a\", \"b\"], [1, 2, 3])\n",
    "\n",
    "# AllDifferentConstraint Example\n",
    "problem.addConstraint(AllDifferentConstraint())\n",
    "problem.getSolutions()"
   ]
  },
  {
   "cell_type": "markdown",
   "metadata": {
    "slideshow": {
     "slide_type": "slide"
    }
   },
   "source": [
    "<h1><center>Arc Consistency - AC3 Algorithm</center></h1>\n",
    "\n",
    "<center><img src=\"img/AC3.png\"></center>\n",
    "\n",
    "From Russel & Norvig Textbook"
   ]
  },
  {
   "cell_type": "markdown",
   "metadata": {
    "slideshow": {
     "slide_type": "slide"
    }
   },
   "source": [
    "<h1><center>CSP Summary</center></h1>\n",
    "\n",
    "- CSP problems are defined with variables, domains and constraints.\n",
    "\n",
    "\n",
    "- CSP solution is a complete and consistent assignment of values to ALL variables such that no constraint is violated.\n",
    "\n",
    "\n",
    "- Backtracking is a CSP solver. Backtracking failures can be detected early using Forward Checking.\n",
    "\n",
    "\n",
    "- Backtracking can be made more efficient using heuristics on choosing variables and values: MRV, MCV, and LCV."
   ]
  }
 ],
 "metadata": {
  "celltoolbar": "Slideshow",
  "kernelspec": {
   "display_name": "Python 3",
   "language": "python",
   "name": "python3"
  },
  "language_info": {
   "codemirror_mode": {
    "name": "ipython",
    "version": 3
   },
   "file_extension": ".py",
   "mimetype": "text/x-python",
   "name": "python",
   "nbconvert_exporter": "python",
   "pygments_lexer": "ipython3",
   "version": "3.7.4"
  }
 },
 "nbformat": 4,
 "nbformat_minor": 2
}
