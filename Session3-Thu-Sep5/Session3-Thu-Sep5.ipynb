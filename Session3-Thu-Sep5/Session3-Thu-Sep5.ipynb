{
 "cells": [
  {
   "cell_type": "markdown",
   "metadata": {
    "slideshow": {
     "slide_type": "slide"
    }
   },
   "source": [
    "#### <h1><center>CMSC 471: Introduction to Artificial Intelligence</center></h1>\n",
    "\n",
    "<center><img src=\"img/title.jpeg\" align=\"center\"/></center>\n",
    "\n",
    "\n",
    "<h3 style=\"color:blue;\"><center>Instructor: Fereydoon \"Fred\" Vafaei</center></h3>\n",
    "\n",
    "\n",
    "<h5 style=\"color:purple;\"><center>Session 3: September 5, 2019 - Chapter 2 \"Intelligent Agents\"</center></h5>\n",
    "\n",
    "<center><img src=\"img/UMBC_logo.png\" align=\"center\"/></center>"
   ]
  },
  {
   "cell_type": "markdown",
   "metadata": {
    "slideshow": {
     "slide_type": "slide"
    }
   },
   "source": [
    "<h1><center>Agenda</center></h1>\n",
    "\n",
    "- <b>Q/A:</b> Are there any questions?\n",
    "- <b> Announcements, updates and reminders</b> \n",
    "- <b> Chapter 2: Intelligent Agents</b>\n",
    "- <b> Conda Environments and Jupyter Notebooks</b>"
   ]
  },
  {
   "cell_type": "markdown",
   "metadata": {
    "slideshow": {
     "slide_type": "subslide"
    }
   },
   "source": [
    "- <b>Announcements, updates and reminders:</b>\n",
    "    - Course Website "
   ]
  },
  {
   "cell_type": "markdown",
   "metadata": {
    "slideshow": {
     "slide_type": "fragment"
    }
   },
   "source": [
    "    - Nice job on assignment 0, assignment 1 coming up next week!"
   ]
  },
  {
   "cell_type": "markdown",
   "metadata": {
    "slideshow": {
     "slide_type": "fragment"
    }
   },
   "source": [
    "    - Quiz 1, 2 & 3 on reading assignments coming up later this week and due next week."
   ]
  },
  {
   "cell_type": "markdown",
   "metadata": {
    "slideshow": {
     "slide_type": "fragment"
    }
   },
   "source": [
    "    - Schedule and reading assignments for this week (Sep 2-8): Chapter 1 and 2.\n",
    "    - Schedule and reading assignments for next week (Sep 9-15): Chapter 3 \"Solving Problems by Searching\"."
   ]
  },
  {
   "cell_type": "markdown",
   "metadata": {
    "slideshow": {
     "slide_type": "fragment"
    }
   },
   "source": [
    "    - Quiz 0: Syllabus\n",
    "    \n",
    "    http://www.pollev.com/fvafaei500"
   ]
  },
  {
   "cell_type": "markdown",
   "metadata": {
    "slideshow": {
     "slide_type": "slide"
    }
   },
   "source": [
    "<h1><center>Intelligent Agents</center></h1>\n",
    "<img src=\"img/agent1.png\" align=\"left\"/>\n",
    "https://gungorbasa.com/intelligent-agents-dc5901daba7d"
   ]
  },
  {
   "cell_type": "markdown",
   "metadata": {
    "slideshow": {
     "slide_type": "slide"
    }
   },
   "source": [
    "<h1><center>From last session: Intelligent Agents</center></h1>\n",
    "\n",
    "- <b>Intelligent agent:</b> \"We define AI as the study of agents that receive <span style=\"color:blue\">*percepts*</span> from the environment and perform actions.\"\n",
    "\n",
    "- <b>Percept:</b> a mental concept that is developed as a consequence of the process of perception.\n",
    "- <b>Percept:</b> \"We use the term <span style=\"color:blue\">*percept*</span> to refer to the agent's perceptual inputs at any given instant.\"\n",
    "- <b>Breadth of AI:</b> \"We treat <span style=\"color:blue\">*robotics*</span> and <span style=\"color:blue\">*vision*</span> not as indepedently defined problems, but as occurring in the service of achieving goals.\""
   ]
  },
  {
   "cell_type": "markdown",
   "metadata": {
    "slideshow": {
     "slide_type": "subslide"
    }
   },
   "source": [
    "<h1><center>From last session: Four AI Approaches</center></h1>\n",
    "\n",
    "- <b>Hint: Acting Humanly:</b> Example?"
   ]
  },
  {
   "cell_type": "markdown",
   "metadata": {
    "slideshow": {
     "slide_type": "fragment"
    }
   },
   "source": [
    "- <b>1- Acting Humanly:</b> Turing Test\n",
    "\n",
    "- <b>2- Thinking Humanly:</b> Cognitive Science\n",
    "\n",
    "- <b>3- Acting Rationally</b> Intelligent Agents\n",
    "\n",
    "- <b>4- Thinking Rationally</b> Can Intelligent Agents actually do that?"
   ]
  },
  {
   "cell_type": "markdown",
   "metadata": {
    "slideshow": {
     "slide_type": "slide"
    }
   },
   "source": [
    "<h1><center>Rational Agent: Actions and States</center></h1>\n",
    "\n",
    "- <b>Sequence of Actions by the agent</b> leads to <b>Sequence of States for the environment</b>"
   ]
  },
  {
   "cell_type": "markdown",
   "metadata": {
    "slideshow": {
     "slide_type": "slide"
    }
   },
   "source": [
    "<h1><center>Rationality</center></h1>\n",
    "\n",
    "What is rational at any given time depends on four things:\n",
    "- <b>The performance measure</b> that defines the criterion of success.\n",
    "- <b>The agent's prior knowledge of the environment</b> \n",
    "- <b>The actions that the agent can perform</b> \n",
    "- <b>The agent's percept sequence to date</b> "
   ]
  },
  {
   "cell_type": "markdown",
   "metadata": {
    "slideshow": {
     "slide_type": "slide"
    }
   },
   "source": [
    "<h1><center>Omniscience, learning, and autonomy</center></h1>"
   ]
  },
  {
   "cell_type": "markdown",
   "metadata": {
    "slideshow": {
     "slide_type": "slide"
    }
   },
   "source": [
    "<h1><center>Task Environment Specifications - PEAS</center></h1>\n",
    "\n",
    "- <b>The Performance measure</b>\n",
    "\n",
    "- <b>The External environment</b> \n",
    "\n",
    "- <b>The Actuators</b> \n",
    "\n",
    "- <b>The Sensors</b> "
   ]
  },
  {
   "cell_type": "markdown",
   "metadata": {
    "slideshow": {
     "slide_type": "subslide"
    }
   },
   "source": [
    "<h1><center>Task Environment Dimensions and Properties</center></h1>\n",
    "\n",
    "- <b>Fully or partially observable</b>\n",
    "\n",
    "- <b>Single-agent or multi-agent</b> \n",
    "\n",
    "- <b>Deterministic or stochastic</b> \n",
    "\n",
    "- <b>Static or dynamic</b> \n",
    "\n",
    "- <b>Discrete or continuous</b> \n",
    "\n",
    "- <b>Known or unknown</b>\n",
    "\n",
    "- <b>Episodic or Sequential</b>"
   ]
  },
  {
   "cell_type": "markdown",
   "metadata": {
    "slideshow": {
     "slide_type": "slide"
    }
   },
   "source": [
    "<h1><center>Types of Agents</center></h1>\n",
    "\n",
    "- <b>Simple reflex agents</b>\n",
    "\n",
    "- <b>Model-based reflex agents</b> \n",
    "\n",
    "- <b>Goal-based agents</b> \n",
    "\n",
    "- <b>Utility-based agents</b> "
   ]
  },
  {
   "cell_type": "markdown",
   "metadata": {
    "slideshow": {
     "slide_type": "slide"
    }
   },
   "source": [
    "<h1><center>All Agents Can Improve Through Learning!</center></h1>"
   ]
  },
  {
   "cell_type": "markdown",
   "metadata": {
    "slideshow": {
     "slide_type": "subslide"
    }
   },
   "source": [
    "<h1><center>From the Textbook: Learning Agents</center></h1>\n",
    "\n",
    "<img src=\"img/learning-agent.png\" align=\"center\"/>"
   ]
  },
  {
   "cell_type": "markdown",
   "metadata": {
    "slideshow": {
     "slide_type": "slide"
    }
   },
   "source": [
    "<h1><center>From the Textbook: State Representations</center></h1>\n",
    "\n",
    "<img src=\"img/atomic.png\" align=\"center\"/>"
   ]
  }
 ],
 "metadata": {
  "celltoolbar": "Slideshow",
  "kernelspec": {
   "display_name": "Python 3",
   "language": "python",
   "name": "python3"
  },
  "language_info": {
   "codemirror_mode": {
    "name": "ipython",
    "version": 3
   },
   "file_extension": ".py",
   "mimetype": "text/x-python",
   "name": "python",
   "nbconvert_exporter": "python",
   "pygments_lexer": "ipython3",
   "version": "3.7.4"
  }
 },
 "nbformat": 4,
 "nbformat_minor": 2
}
