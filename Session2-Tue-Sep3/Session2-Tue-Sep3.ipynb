{
 "cells": [
  {
   "cell_type": "markdown",
   "metadata": {
    "slideshow": {
     "slide_type": "slide"
    }
   },
   "source": [
    "#### <h1><center>CMSC 471: Introduction to Artificial Intelligence</center></h1>\n",
    "\n",
    "<center><img src=\"img/title.jpeg\" align=\"center\"/></center>\n",
    "\n",
    "\n",
    "<h3 style=\"color:blue;\"><center>Instructor: Fereydoon \"Fred\" Vafaei</center></h3>\n",
    "\n",
    "\n",
    "<h5 style=\"color:purple;\"><center>Session 2: September 3, 2019 - Chapter 1 \"What is AI?\"</center></h5>\n",
    "\n",
    "<center><img src=\"img/UMBC_logo.png\" align=\"center\"/></center>"
   ]
  },
  {
   "cell_type": "markdown",
   "metadata": {
    "slideshow": {
     "slide_type": "slide"
    }
   },
   "source": [
    "<h1><center>Agenda</center></h1>\n",
    "\n",
    "- <b>Q/A:</b> Are there any questions?\n",
    "- <b> Announcements, updates and reminders</b> \n",
    "- <b> Introduction-handout feedback</b>\n",
    "- <b> Chapter 1: What is AI? The foundations of AI</b>"
   ]
  },
  {
   "cell_type": "markdown",
   "metadata": {
    "slideshow": {
     "slide_type": "subslide"
    }
   },
   "source": [
    "- <b>Announcements, updates and reminders:</b>\n",
    "    - Section 2 class size  "
   ]
  },
  {
   "cell_type": "markdown",
   "metadata": {
    "slideshow": {
     "slide_type": "fragment"
    }
   },
   "source": [
    "    - Important dates:\n",
    "        midterm exam: around mid-October.\n",
    "        final exam: normal schedule."
   ]
  },
  {
   "cell_type": "markdown",
   "metadata": {
    "slideshow": {
     "slide_type": "fragment"
    }
   },
   "source": [
    "    - TA office hours have been posted in Piazza."
   ]
  },
  {
   "cell_type": "markdown",
   "metadata": {
    "slideshow": {
     "slide_type": "fragment"
    }
   },
   "source": [
    "    - Schedule and reading assignments for this week (Sep 2-8): Chapter 1 and 2.\n",
    "    - Schedule and reading assignments for next week (Sep 9-15): Chapter 3 \"Solving Problems by Searching\"."
   ]
  },
  {
   "cell_type": "markdown",
   "metadata": {
    "slideshow": {
     "slide_type": "fragment"
    }
   },
   "source": [
    "    - Assignment 0: Jupyter Notebook & Piazza signup."
   ]
  },
  {
   "cell_type": "markdown",
   "metadata": {
    "slideshow": {
     "slide_type": "subslide"
    }
   },
   "source": [
    "    - Quiz 0: Syllabus\n",
    "    \n",
    "    http://www.pollev.com/fvafaei500"
   ]
  },
  {
   "cell_type": "markdown",
   "metadata": {
    "slideshow": {
     "slide_type": "subslide"
    }
   },
   "source": [
    "<h1><center>Introduction-handout feedback</center></h1>"
   ]
  },
  {
   "cell_type": "markdown",
   "metadata": {
    "slideshow": {
     "slide_type": "fragment"
    }
   },
   "source": [
    "\"I have no prior experience in AI. Can I succeed in this course?\""
   ]
  },
  {
   "cell_type": "markdown",
   "metadata": {
    "slideshow": {
     "slide_type": "fragment"
    }
   },
   "source": [
    "\"I'm so excited about this course. Are we going to learn about AI in game development?\""
   ]
  },
  {
   "cell_type": "markdown",
   "metadata": {
    "slideshow": {
     "slide_type": "slide"
    }
   },
   "source": [
    "<img src=\"img/what-is-ai.jpg\" align=\"left\"/>\n",
    "https://1reddrop.com/2019/01/07/definition-of-artificial-intelligence-what-is-ai-what-are-the-types-and-components-and-how-does-it-work/"
   ]
  },
  {
   "cell_type": "markdown",
   "metadata": {
    "slideshow": {
     "slide_type": "slide"
    }
   },
   "source": [
    "<h1><center>Definition of AI from the textbook</center></h1>\n",
    "\n",
    "- <b>Intelligent agent:</b> \"We define AI as the study of agents that receive <span style=\"color:blue\">*percepts*</span> from the environment and perform actions.\"\n",
    "\n",
    "- <b>Percept:</b> a mental concept that is developed as a consequence of the process of perception.\n",
    "- <b>Percept:</b> \"We use the term <span style=\"color:blue\">*percept*</span> to refer to the agent's perceptual inputs at any given instant.\"\n",
    "- <b>Breadth of AI:</b> \"We treat <span style=\"color:blue\">*robotics*</span> and <span style=\"color:blue\">*vision*</span> not as indepedently defined problems, but as occurring in the service of achieving goals.\""
   ]
  },
  {
   "cell_type": "markdown",
   "metadata": {
    "slideshow": {
     "slide_type": "slide"
    }
   },
   "source": [
    "<h1><center>Another Definition of AI</center></h1>\n",
    "- \"It is the science and engineering of making intelligent machines, especially intelligent computer programs. It is related to the similar task of using computers to understand human intelligence, but AI does not have to confine itself to methods that are biologically observable.\"\n",
    "\n",
    "http://www-formal.stanford.edu/jmc/whatisai/\n"
   ]
  },
  {
   "cell_type": "markdown",
   "metadata": {
    "slideshow": {
     "slide_type": "slide"
    }
   },
   "source": [
    "<h1><center>Then What Is Intelligence?</center></h1>\n",
    "\"Intelligence is the computational part of the ability to achieve goals in the world. Varying kinds and degrees of intelligence occur in people, many animals and some machines.\"\n",
    "\n",
    "http://www-formal.stanford.edu/jm"
   ]
  },
  {
   "cell_type": "markdown",
   "metadata": {
    "slideshow": {
     "slide_type": "slide"
    }
   },
   "source": [
    "<h1><center>AI Approaches - Acting Humanly</center></h1>\n",
    "\n",
    "[The Turing Test approach](https://www.youtube.com/watch?v=sXx-PpEBR7k) - the computer would need to process the following capabilities:\n"
   ]
  },
  {
   "cell_type": "markdown",
   "metadata": {
    "slideshow": {
     "slide_type": "fragment"
    }
   },
   "source": [
    "- NLP\n",
    "- Knowledge Representation\n",
    "- Automated Reasoning\n",
    "- Machine Learning\n",
    "- Computer Vision\n",
    "- Robotics\n"
   ]
  },
  {
   "cell_type": "markdown",
   "metadata": {
    "slideshow": {
     "slide_type": "slide"
    }
   },
   "source": [
    "<h1><center>AI Approaches - Thinking Humanly</center></h1>\n",
    "- The coginitive modeling approach. <b>Cognitive Science and Neuro-Cognitive Science.</b>\n"
   ]
  },
  {
   "cell_type": "markdown",
   "metadata": {
    "slideshow": {
     "slide_type": "slide"
    }
   },
   "source": [
    "<h1><center>AI Approaches - Thinking Rationally and Acting Rationally</center></h1>\n",
    "\n",
    "- Intelligent agents - Chapter 2."
   ]
  },
  {
   "cell_type": "markdown",
   "metadata": {
    "slideshow": {
     "slide_type": "slide"
    }
   },
   "source": [
    "<h1><center>Bio-Inspired AI</center></h1>\n"
   ]
  },
  {
   "cell_type": "markdown",
   "metadata": {
    "slideshow": {
     "slide_type": "fragment"
    }
   },
   "source": [
    "<h1><center>Reinforcement Learning</center></h1>\n",
    "<center><img src=\"img/rl.jpg\" align=\"center\"/></center>"
   ]
  },
  {
   "cell_type": "markdown",
   "metadata": {
    "slideshow": {
     "slide_type": "slide"
    }
   },
   "source": [
    "<h1><center>Class Activity</center></h1>\n",
    "- Discuss the following questions with your peers and write your answers with your name on a paper and return to Fereydoon:\n",
    "\n",
    "- Is AI an assitance to humanity or a threat?"
   ]
  },
  {
   "cell_type": "markdown",
   "metadata": {
    "slideshow": {
     "slide_type": "fragment"
    }
   },
   "source": [
    "- Which jobs would be soon replaced by AI?"
   ]
  },
  {
   "cell_type": "markdown",
   "metadata": {
    "slideshow": {
     "slide_type": "fragment"
    }
   },
   "source": [
    "- Which Jobs would be difficult to be replaced by AI within the next decade?"
   ]
  }
 ],
 "metadata": {
  "celltoolbar": "Slideshow",
  "kernelspec": {
   "display_name": "Python 3",
   "language": "python",
   "name": "python3"
  },
  "language_info": {
   "codemirror_mode": {
    "name": "ipython",
    "version": 3
   },
   "file_extension": ".py",
   "mimetype": "text/x-python",
   "name": "python",
   "nbconvert_exporter": "python",
   "pygments_lexer": "ipython3",
   "version": "3.7.4"
  }
 },
 "nbformat": 4,
 "nbformat_minor": 2
}
