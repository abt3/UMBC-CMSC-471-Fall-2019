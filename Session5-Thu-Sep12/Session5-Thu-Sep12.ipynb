{
 "cells": [
  {
   "cell_type": "markdown",
   "metadata": {
    "slideshow": {
     "slide_type": "slide"
    }
   },
   "source": [
    "#### <h1><center>CMSC 471: Introduction to Artificial Intelligence</center></h1>\n",
    "\n",
    "<center><img src=\"img/title.jpeg\" align=\"center\"/></center>\n",
    "\n",
    "\n",
    "<h3 style=\"color:blue;\"><center>Instructor: Fereydoon \"Fred\" Vafaei</center></h3>\n",
    "\n",
    "\n",
    "<h5 style=\"color:purple;\"><center>Session 5 (includes session 4): September 12, 2019 - Chapter 3 \"Uninformed and Informed Search\"</center></h5>\n",
    "\n",
    "<center><img src=\"img/UMBC_logo.png\" align=\"center\"/></center>"
   ]
  },
  {
   "cell_type": "markdown",
   "metadata": {
    "slideshow": {
     "slide_type": "slide"
    }
   },
   "source": [
    "<h1><center>Agenda</center></h1>\n",
    "\n",
    "- <b>Q/A:</b> Are there any questions?\n",
    "- <b> Announcements, updates and reminders</b> \n",
    "- <b> Chapter 3: Uninformed and Informed Search</b>"
   ]
  },
  {
   "cell_type": "markdown",
   "metadata": {
    "slideshow": {
     "slide_type": "subslide"
    }
   },
   "source": [
    "- <b>Announcements, updates and reminders:</b>\n",
    "    - Quiz 1 release date: Tue Sep 10, Due Tue Sep 17.\n",
    "    - Quiz 2 release date: Wed Sep 11, Due Wed Sep 18.\n",
    "    - Quiz 3 release date: Fri Sep 13, Due Fri Sep 20."
   ]
  },
  {
   "cell_type": "markdown",
   "metadata": {
    "slideshow": {
     "slide_type": "fragment"
    }
   },
   "source": [
    "    - Assignment 1 \"Search Algorithms\" Release date: Sunday Sep 15, Due: Wednesday Sep 25 5:00PM."
   ]
  },
  {
   "cell_type": "markdown",
   "metadata": {
    "slideshow": {
     "slide_type": "fragment"
    }
   },
   "source": [
    "    - Schedule and reading assignments for this week (Sep 9-15):\n",
    "    Chapter 3 \"Solving Problems by Searching\".\n",
    "    - Schedule and reading assignments for next week (Sep 16-22):\n",
    "    Chapter 4 \"Beyond Classical Search\"."
   ]
  },
  {
   "cell_type": "markdown",
   "metadata": {
    "slideshow": {
     "slide_type": "slide"
    }
   },
   "source": [
    "<h1><center>Session 3 Review: Intelligent Agents</center></h1>\n",
    "<img src=\"img/agent1.png\" align=\"left\"/>\n",
    "https://gungorbasa.com/intelligent-agents-dc5901daba7d"
   ]
  },
  {
   "cell_type": "markdown",
   "metadata": {
    "slideshow": {
     "slide_type": "slide"
    }
   },
   "source": [
    "<h1><center>Session 3 Review: Rational Agent - Actions and States</center></h1>\n",
    "\n",
    "- <b>Sequence of Actions by the agent</b> leads to <b>Sequence of States for the environment</b>"
   ]
  },
  {
   "cell_type": "markdown",
   "metadata": {
    "slideshow": {
     "slide_type": "subslide"
    }
   },
   "source": [
    "<h1><center>Session 3 Review: Task Environment Dimensions and Properties</center></h1>\n",
    "\n",
    "- <b>Fully or partially observable</b>\n",
    "\n",
    "- <b>Single-agent or multi-agent</b> \n",
    "\n",
    "- <b>Deterministic or stochastic</b> \n",
    "\n",
    "- <b>Static or dynamic</b> \n",
    "\n",
    "- <b>Discrete or continuous</b> \n",
    "\n",
    "- <b>Known or unknown</b>\n",
    "\n",
    "- <b>Episodic or Sequential</b>"
   ]
  },
  {
   "cell_type": "markdown",
   "metadata": {
    "slideshow": {
     "slide_type": "slide"
    }
   },
   "source": [
    "<h1><center>Session 3 Review: Types of Agents</center></h1>\n",
    "\n",
    "- <b>Simple reflex agents</b>\n",
    "\n",
    "- <b>Model-based reflex agents</b> \n",
    "\n",
    "- <b>Goal-based agents</b> \n",
    "\n",
    "- <b>Utility-based agents</b> "
   ]
  },
  {
   "cell_type": "markdown",
   "metadata": {
    "slideshow": {
     "slide_type": "slide"
    }
   },
   "source": [
    "<h1><center>Problem Solving Agents - Search Agents</center></h1>\n",
    "\n",
    " <b>One specific kind of agents that uses with atomic representations on discrete environments.</b>\n"
   ]
  },
  {
   "cell_type": "markdown",
   "metadata": {
    "slideshow": {
     "slide_type": "slide"
    }
   },
   "source": [
    "<h1><center>Search Environment Properties</center></h1>\n",
    "\n",
    "- <b>Observable</b>\n",
    "\n",
    "- <b>Discrete</b> \n",
    "\n",
    "- <b>Known</b> \n",
    "\n",
    "- <b>Deterministic</b> "
   ]
  },
  {
   "cell_type": "markdown",
   "metadata": {
    "slideshow": {
     "slide_type": "slide"
    }
   },
   "source": [
    "<h1><center>Definition of Search from the Textbook</center></h1>\n",
    "\n",
    " <b>The process of looking for a sequence of actions that reaches the goal.</b>\n",
    " \n",
    " <img src=\"img/romania.png\" align=\"center\"/>"
   ]
  },
  {
   "cell_type": "markdown",
   "metadata": {
    "slideshow": {
     "slide_type": "slide"
    }
   },
   "source": [
    "<h1><center>Well Defined Problems and Solutions</center></h1>\n",
    "\n",
    "- <b>Initial State</b>\n",
    "\n",
    "- <b>Actions</b> \n",
    "\n",
    "- <b>State Space - Directed Graph (or Tree)</b>  with nodes and edges G(V, E). \n",
    "\n",
    "- <b>Transition Model - Successors</b> Graph: adjacent nodes. Tree: children of a node.\n",
    "\n",
    "- <b>Goal Test</b> IsGoal(Node)?\n",
    "\n",
    "- <b>Optimal Solution</b> The solution with the lowest cost."
   ]
  },
  {
   "cell_type": "markdown",
   "metadata": {
    "slideshow": {
     "slide_type": "slide"
    }
   },
   "source": [
    "<h1><center>Example Problem: 3 Puzzle</center></h1>\n",
    "\n",
    " <b>Class Activity: Define the problem and write a solution. Show all actions!</b>\n",
    " \n",
    " <img src=\"img/3puzzle.png\" align=\"center\"/>"
   ]
  },
  {
   "cell_type": "markdown",
   "metadata": {
    "slideshow": {
     "slide_type": "slide"
    }
   },
   "source": [
    "<h1><center>Example Problem: 8 Puzzle</center></h1>\n",
    "\n",
    " <b>http://www.tilepuzzles.com/default.asp?p=12</b>"
   ]
  },
  {
   "cell_type": "markdown",
   "metadata": {
    "slideshow": {
     "slide_type": "slide"
    }
   },
   "source": [
    "<h1><center>Uniformed Search: Breadth First Search (BFS) vs Depth First Search (DFS)</center></h1>\n",
    " \n",
    " <img src=\"img/bfs-dfs1.png\" align=\"center\"/>\n",
    " image from: http://mishadoff.com/blog/dfs-on-binary-tree-array/"
   ]
  },
  {
   "cell_type": "markdown",
   "metadata": {
    "slideshow": {
     "slide_type": "slide"
    }
   },
   "source": [
    "<h1><center>BFS vs DFS</center></h1>\n",
    " \n",
    " <img src=\"img/bfs-dfs2.png\" align=\"center\"/>\n",
    " image from the paper by Everitt et al. (2015) \"Analytical Results on the BFS vs. DFS Algorithm Selection Problem: Part II: Graph Search\""
   ]
  },
  {
   "cell_type": "markdown",
   "metadata": {
    "slideshow": {
     "slide_type": "slide"
    }
   },
   "source": [
    "<h1><center>BFS vs DFS Example</center></h1>\n",
    " \n",
    " <img src=\"img/bfs-dfs-ex.jpeg\" align=\"center\"/>\n",
    "\n",
    "image from: https://medium.com/@jamesonbass/stacks-queues-depth-first-search-and-breadth-first-search-90eeafe3f6f4"
   ]
  },
  {
   "cell_type": "markdown",
   "metadata": {
    "slideshow": {
     "slide_type": "fragment"
    }
   },
   "source": [
    "BFS Solution: [1, 8, 5, 2, 6, 4, 3, 9, 10, 7]\n",
    "    \n"
   ]
  },
  {
   "cell_type": "markdown",
   "metadata": {
    "slideshow": {
     "slide_type": "fragment"
    }
   },
   "source": [
    "DFS Solution, which one is correct: [ 1, 8, 6, 10, 7, 4, 3, 5, 2, 9 ] or [ 1, 8, 6, 10, 7] ?"
   ]
  },
  {
   "cell_type": "markdown",
   "metadata": {
    "slideshow": {
     "slide_type": "slide"
    }
   },
   "source": [
    "<h1><center>Measuring Problem Solving Performance</center></h1>\n",
    "\n",
    "- <b>Completeness</b> Is the algorithm guaranteed to find a solution when there is one?\n",
    "\n",
    "- <b>Optimality</b> Does the strategy find the optimal solution? Lowest path cost among all solutions.\n",
    "\n",
    "- <b>Time Complexity</b> How long does it take to find a solution?\n",
    "\n",
    "- <b>Space Complexity</b> How much memory is needed to perform the search?"
   ]
  },
  {
   "cell_type": "markdown",
   "metadata": {
    "slideshow": {
     "slide_type": "subslide"
    }
   },
   "source": [
    "<h1><center>Measuring BFS Performance</center></h1>\n",
    "\n",
    "- <b>Completeness?</b> \n",
    "\n",
    "- <b>Optimality?</b> \n",
    "\n",
    "- <b>Time Complexity?</b> \n",
    "\n",
    "- <b>Space Complexity?</b>"
   ]
  },
  {
   "cell_type": "markdown",
   "metadata": {
    "slideshow": {
     "slide_type": "subslide"
    }
   },
   "source": [
    "<h1><center>Measuring BFS Performance</center></h1>\n",
    "\n",
    "- <b>Completeness?</b> Yes! Although, the branching factor b should be finite. If b is infinite, BFS is NOT complete!"
   ]
  },
  {
   "cell_type": "markdown",
   "metadata": {
    "slideshow": {
     "slide_type": "subslide"
    }
   },
   "source": [
    "- <b>Optimality?</b> It depends!\n",
    "- BFS is optimal if the path cost is a nondecreasing function of the depth of the node. The most common such scenario is that all actions have the same cost. In other words, BFS checks all the nodes at any depth level, before checking the nodes at a deeper level. So it will check the nodes on level with depth D, before the ones with depth greater than D. If the cost function does not decrease as the depth increases , then BFS is optimal, because:\n",
    "\n",
    "- all nodes that are not checked yet have greater or equal path cost; AND\n",
    "\n",
    "- all nodes which have lower path cost are already checked and they are not a solution."
   ]
  },
  {
   "cell_type": "markdown",
   "metadata": {
    "slideshow": {
     "slide_type": "subslide"
    }
   },
   "source": [
    "- <b>Time Complexity?</b> b: branching factor, d: the depth of the shallowest solution. Compute it now!"
   ]
  },
  {
   "cell_type": "markdown",
   "metadata": {
    "slideshow": {
     "slide_type": "fragment"
    }
   },
   "source": [
    "- <b>Time Complexity?</b> $O(b^d)$ b: branching factor, d: the depth of the shallowest solution"
   ]
  },
  {
   "cell_type": "markdown",
   "metadata": {
    "slideshow": {
     "slide_type": "subslide"
    }
   },
   "source": [
    "- <b>Space Complexity?</b> $O(b^d)$ b: branching factor, d: the depth of the shallowest solution. BFS needs to store all the expanded nodes in memory."
   ]
  },
  {
   "cell_type": "markdown",
   "metadata": {
    "slideshow": {
     "slide_type": "subslide"
    }
   },
   "source": [
    "<h1><center>BFS Time/Space Analysis from the Textbook</center></h1>\n",
    "\n",
    "<img src=\"img/bfs-time-space.png\" align=\"center\"/>"
   ]
  },
  {
   "cell_type": "markdown",
   "metadata": {
    "slideshow": {
     "slide_type": "subslide"
    }
   },
   "source": [
    "<h1><center>Measuring DFS Performance</center></h1>\n",
    "\n",
    "- <b>Completeness?</b>\n",
    "\n",
    "- <b>Optimality?</b> \n",
    "\n",
    "- <b>Time Complexity?</b> \n",
    "\n",
    "- <b>Space Complexity?</b>"
   ]
  },
  {
   "cell_type": "markdown",
   "metadata": {
    "slideshow": {
     "slide_type": "fragment"
    }
   },
   "source": [
    "<h1><center>Measuring DFS Performance</center></h1>\n",
    "\n",
    "- <b>Completeness?</b> No for tree version! If there is a loop in a branch, it takes forever. Yes for graph version in finite space. \n",
    "\n",
    "- <b>Optimality?</b> No! If the goal is in a shallow level on the right side branch.\n",
    "\n",
    "- <b>Time Complexity?</b> $O(b^m)$ b: branching factor, m: the maximum depth of the search tree\n",
    "\n",
    "- <b>Space Complexity?</b> $O(bm)$ b: branching factor, m: the maximum depth of the search tree. DFS needs to store only a single path from the root to a leaf node, along with the remaining unexpanded sibling nodes for each node on the path."
   ]
  },
  {
   "cell_type": "markdown",
   "metadata": {
    "slideshow": {
     "slide_type": "subslide"
    }
   },
   "source": [
    "<h1><center>Why DFS is not complete from the Textbook</center></h1>\n",
    "\n",
    "<img src=\"img/dfs-loop.png\" align=\"center\"/>"
   ]
  },
  {
   "cell_type": "markdown",
   "metadata": {
    "slideshow": {
     "slide_type": "slide"
    }
   },
   "source": [
    "<h1><center>DFS Modifications: Depth-Limited Search</center></h1>\n",
    "\n",
    "- <b>Completeness?</b> No, if $l < d$ $l$: limit, $d$: the depth of the shallowest solution.\n",
    "- <b>Optimality?</b> No, if $l > d$ $l$: limit, $d$: the depth of the shallowest solution."
   ]
  },
  {
   "cell_type": "markdown",
   "metadata": {
    "slideshow": {
     "slide_type": "slide"
    }
   },
   "source": [
    "<h1><center>DFS Modifications: Iterative Deepening DFS</center></h1>\n",
    "\n",
    "<img src=\"img/iterative-dfs.png\" align=\"center\"/>"
   ]
  },
  {
   "cell_type": "markdown",
   "metadata": {
    "slideshow": {
     "slide_type": "subslide"
    }
   },
   "source": [
    "<h1><center>Iterative Deepening DFS</center></h1>\n",
    "\n",
    "- <b>Completeness?</b> Yes, if b is finite.\n",
    "- <b>Optimality?</b> Yes, if the path cost is a nondecreasing function of the depth of the node.\n",
    "- <b>Time Complexity?</b> $O(b^d)$ b: branching factor, d: the depth of the shallowest solution.\n",
    "\n",
    "- <b>Space Complexity?</b> $O(bd)$ b: branching factor, d: the depth of the shallowest solution."
   ]
  },
  {
   "cell_type": "markdown",
   "metadata": {
    "slideshow": {
     "slide_type": "slide"
    }
   },
   "source": [
    "<h1><center>Informed Search</center></h1>\n",
    "\n",
    "- Uses problem-specific knowledge beyond the definition of the problem itself.\n",
    "- <b>Best-first search</b> A node is selected for expansion based on an evaluation function $f(n)$\n",
    "- <b>Heuristic function $h(n)$</b> estimated cost of the cheapest path from the state at node n to a goal state - this is non-negative and problem specific."
   ]
  },
  {
   "cell_type": "markdown",
   "metadata": {
    "slideshow": {
     "slide_type": "slide"
    }
   },
   "source": [
    "<h1><center>Greedy Best-first Search</center></h1>\n",
    "\n",
    "- Expand the node that is closest to the goal.\n",
    "- $f(n) = h(n)$"
   ]
  },
  {
   "cell_type": "markdown",
   "metadata": {
    "slideshow": {
     "slide_type": "subslide"
    }
   },
   "source": [
    "<img src=\"img/greedy.jpg\" align=\"center\"/>\n",
    "\n",
    "image from: https://slideplayer.com/slide/4318958/14/images/35/GREEDY+BEST+FIRST+SEARCH.jpg"
   ]
  },
  {
   "cell_type": "markdown",
   "metadata": {
    "slideshow": {
     "slide_type": "slide"
    }
   },
   "source": [
    "<h1><center>A* Search</center></h1>\n",
    "\n",
    "- Expand the node that has the minimum value of $f(n)$\n",
    "- $f(n) = g(n) + h(n)$\n",
    "- $g(n)$ the cost from the start state to the current node\n",
    "- $h(n)$ the estimated cost from the current node to the goal"
   ]
  },
  {
   "cell_type": "markdown",
   "metadata": {
    "slideshow": {
     "slide_type": "subslide"
    }
   },
   "source": [
    "<h1><center>A* Search</center></h1>\n",
    "\n",
    "<img src=\"img/astar1.png\" align=\"center\"/>"
   ]
  },
  {
   "cell_type": "markdown",
   "metadata": {
    "slideshow": {
     "slide_type": "subslide"
    }
   },
   "source": [
    "<h1><center>A* Search</center></h1>\n",
    "\n",
    "<img src=\"img/astar2.png\" align=\"center\"/>"
   ]
  }
 ],
 "metadata": {
  "celltoolbar": "Slideshow",
  "kernelspec": {
   "display_name": "Python 3",
   "language": "python",
   "name": "python3"
  },
  "language_info": {
   "codemirror_mode": {
    "name": "ipython",
    "version": 3
   },
   "file_extension": ".py",
   "mimetype": "text/x-python",
   "name": "python",
   "nbconvert_exporter": "python",
   "pygments_lexer": "ipython3",
   "version": "3.7.4"
  }
 },
 "nbformat": 4,
 "nbformat_minor": 2
}
