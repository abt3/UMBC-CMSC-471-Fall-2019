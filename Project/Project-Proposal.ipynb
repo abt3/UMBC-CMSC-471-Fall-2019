{
 "cells": [
  {
   "cell_type": "markdown",
   "metadata": {},
   "source": [
    "# CMSC471 Artificial Intelligence\n",
    "\n",
    "# Project Proposal"
   ]
  },
  {
   "cell_type": "markdown",
   "metadata": {},
   "source": [
    "## Project Title"
   ]
  },
  {
   "cell_type": "markdown",
   "metadata": {},
   "source": [
    "*Type your name and ID here* (for groups, include all team members' names and IDs)"
   ]
  },
  {
   "cell_type": "markdown",
   "metadata": {},
   "source": [
    "## Problem Description\n",
    "\n",
    "Explain briefly what problem you are trying to solve."
   ]
  },
  {
   "cell_type": "markdown",
   "metadata": {},
   "source": [
    "## Motivation\n",
    "\n",
    "Explain briefly why this problem is important and how you became interested in it."
   ]
  },
  {
   "cell_type": "markdown",
   "metadata": {},
   "source": [
    "## Dataset\n",
    "\n",
    "Min 1000 records (1 student), max 100MB<br>\n",
    "\n",
    "Link to dataset source:\n",
    "\n",
    "Dataset description: briefly explain the features/label.\n",
    "\n",
    "Include the code for loading and reporting the data shape via sklearn, pandas or tensorflow in the cell below. <b>Your data should be loaded error-free. You should attach the data to your project proposal submission in a zip file.</b>"
   ]
  },
  {
   "cell_type": "markdown",
   "metadata": {},
   "source": [
    "## <font color=\"red\"> Required Coding"
   ]
  },
  {
   "cell_type": "code",
   "execution_count": 1,
   "metadata": {},
   "outputs": [],
   "source": [
    "# Import necessary Python, sklearn and/or tensorflow/keras modules\n",
    "\n",
    "# Load the data\n",
    "\n",
    "# Get data shape via built-in methods of sklearn, pandas or tensorflow/keras"
   ]
  },
  {
   "cell_type": "markdown",
   "metadata": {},
   "source": [
    "## Methods\n",
    "\n",
    "Briefly mention what Machine Learning methods you are going to use. You may change the methods in your final submission. For example, for a classification problem, you may want to work with: SVM, Random Forests from sklearn and Multi-Layer Perceptron from Tensorflow/Keras.\n",
    "\n",
    "Individual students need to work with 2 sklearn methods and 1 tensorflow method.\n",
    "\n",
    "Groups should take 2 approaches (both classification and regression) on 1 or 2 datasets, and for each approach (classification/regression) should use 3 methods as described above (total of 6 methods)."
   ]
  },
  {
   "cell_type": "markdown",
   "metadata": {},
   "source": [
    "## How to Submit and Due Date"
   ]
  },
  {
   "cell_type": "markdown",
   "metadata": {},
   "source": [
    "Name your notebook ```Lastname-Proposal.ipynb```. Submit the notebook file with your dataset file in a zip file named EXACTLY as `Lastname-Proposal.zip` using the ```Project Proposal``` link on Blackboard. For groups, only one submission is required.\n",
    "\n",
    "<font color=red><b>Project Proposal Due Date: Wednesday Nov 20th 11:59PM.</b></font>"
   ]
  }
 ],
 "metadata": {
  "kernelspec": {
   "display_name": "Python 3",
   "language": "python",
   "name": "python3"
  },
  "language_info": {
   "codemirror_mode": {
    "name": "ipython",
    "version": 3
   },
   "file_extension": ".py",
   "mimetype": "text/x-python",
   "name": "python",
   "nbconvert_exporter": "python",
   "pygments_lexer": "ipython3",
   "version": "3.7.3"
  }
 },
 "nbformat": 4,
 "nbformat_minor": 2
}
