{
 "cells": [
  {
   "cell_type": "markdown",
   "metadata": {
    "slideshow": {
     "slide_type": "slide"
    }
   },
   "source": [
    "#### <h1><center>CMSC 471: Introduction to Artificial Intelligence</center></h1>\n",
    "\n",
    "<center><img src=\"img/title.jpeg\" align=\"center\"/></center>\n",
    "\n",
    "\n",
    "<h3 style=\"color:blue;\"><center>Instructor: Fereydoon Vafaei</center></h3>\n",
    "\n",
    "\n",
    "<h5 style=\"color:purple;\"><center>Oct 29, 2019: Midterm Review Session</center></h5>\n",
    "\n",
    "<center><img src=\"img/UMBC_logo.png\" align=\"center\"/></center>"
   ]
  },
  {
   "cell_type": "markdown",
   "metadata": {
    "slideshow": {
     "slide_type": "slide"
    }
   },
   "source": [
    "<h1><center>Agenda</center></h1>\n",
    "\n",
    "- <b> Structure of the midterm exam:</b> Types of questions\n",
    "\n",
    "- Logic Review\n",
    "\n",
    "- CSP Review\n",
    "\n",
    "- Adversarial Seacrh Review\n",
    "\n",
    "- Informed Search and Heuristics Review (A*)\n",
    "\n",
    "- Uninformed Search Review: BFS, DFS\n"
   ]
  },
  {
   "cell_type": "markdown",
   "metadata": {
    "slideshow": {
     "slide_type": "slide"
    }
   },
   "source": [
    "<h1><center>Midterm Exam Structure - Part I - Concepts and Definitions</center></h1>\n",
    "\n",
    "- True/False\n",
    "\n",
    "- Multiple-Choice Questions\n",
    "\n",
    "- Multiple-Answer Questions (None, One, Some, or All may apply)\n",
    "\n",
    "- Short Answer Questions (2-3 words OR 2-3 sentences)"
   ]
  },
  {
   "cell_type": "markdown",
   "metadata": {
    "slideshow": {
     "slide_type": "slide"
    }
   },
   "source": [
    "<h1><center>Midterm Exam Structure - Part II - Problem Solving</center></h1>\n",
    "\n",
    "- Problem Solving:\n",
    "    - Logic:\n",
    "        - Propositional Logic Equivalencies and CNF Conversion\n",
    "            - Satisfiable, Unsatisfiable, Valid\n",
    "            - Natural Language to Propositional Logic\n",
    "            - Inference Rules in Propositional Logic\n",
    "        - First-Order Logic:\n",
    "            - Universal and Existential Quantifiers\n",
    "            - Natural Language to FOL\n",
    "            - Duality and Negation of Universal and Existential Quantifiers\n",
    "        - Inference in FOL (Chapter 9):\n",
    "            - Unification (Only)\n",
    "    - CSP: Arc Consistency\n",
    "    - Adversarial Search: Alpha-Beta Pruning and Minimax\n",
    "    - Informed Search: Heuristics, Admissibility and Consistency, A* vs Greedy\n",
    "    - Uninformed Search: BFS, DFS, Depth-Limited, Iterative Deepening Search, Bidirectional Search, Uniform-Cost Search"
   ]
  },
  {
   "cell_type": "markdown",
   "metadata": {
    "slideshow": {
     "slide_type": "slide"
    }
   },
   "source": [
    "<h1><center>Logic Review</center></h1>\n",
    "\n",
    "- Introduction and Definitions: Entailment, KB, Semantics, Syntax for Propositional Logic and First-Order Logic - Figure 8.3 (No Wumpus World example).\n",
    "\n",
    "- You should also know that: $\\alpha \\models \\beta$ IFF $\\alpha \\Rightarrow \\beta$ is valid and how entailment $\\models$, implication $\\Rightarrow$, and inference $\\vdash$ differ from each other.\n",
    "\n",
    "- Propositional Logic Equivalencies: Figure 7.11 (will be provided in the exam).\n",
    "\n",
    "- CNF: Complete procedure including the distribution of $\\lor$ over $\\land$ to make it \"Conjunction of Disjunctions\".\n",
    "\n",
    "- Inference rules: Modus Ponens, Unit Resolution, Resolution (will be provided in the exam). You will be given a KB, and you should prove a conclusion using inference rules.\n",
    "\n",
    "- First-Order Logic: Universal and Existential Quantifiers and their negation and duality, Chapter 8 page 298"
   ]
  },
  {
   "cell_type": "markdown",
   "metadata": {
    "slideshow": {
     "slide_type": "slide"
    }
   },
   "source": [
    "<h1><center>Conjunctive Normal Form (CNF)</center></h1>\n",
    "\n",
    "Procedure to convert Propositional Logic sentences to CNF:\n",
    "\n",
    "- Replace biconditional $(P \\iff Q)$ with $(P \\Rightarrow Q) \\land (Q \\Rightarrow P)$\n",
    "\n",
    "- Eliminate implication. $(P \\Rightarrow Q) \\equiv \\neg P \\lor Q$\n",
    "\n",
    "- Move $\\neg$ inwards, i.e. apply it using DeMorgan or eliminate double-negation if applies.\n",
    "\n",
    "- Distribute $\\lor$ over $\\land$ to make it conjunction of disjunctions - $\\land$ of $\\lor$s.\n",
    "\n",
    "- Flatten nesting. For example: $(P \\land Q) \\land R$ becomes $P\\land Q \\land R$"
   ]
  },
  {
   "cell_type": "markdown",
   "metadata": {
    "slideshow": {
     "slide_type": "slide"
    }
   },
   "source": [
    "<h1><center>Propositional Logic Equivalencies (will be provided)</center></h1>\n",
    "\n",
    "<center><img src=\"img/fig-7.11.png\" align=\"center\"/></center>"
   ]
  },
  {
   "cell_type": "markdown",
   "metadata": {
    "slideshow": {
     "slide_type": "slide"
    }
   },
   "source": [
    "<h1><center>Inference Rules (will be provided)</center></h1>\n",
    "\n",
    "<center><img src=\"img/inference-rules.png\" align=\"center\"/></center>"
   ]
  },
  {
   "cell_type": "markdown",
   "metadata": {
    "slideshow": {
     "slide_type": "slide"
    }
   },
   "source": [
    "<h1><center>From Natural Language to FOL</center></h1>\n",
    "\n",
    "- Review the questions of quiz-7 and quiz-8 as well as in-class activity examples.\n",
    "\n",
    "- Some examples on \"English to FOL\":\n",
    "\n",
    "    - All UMBC students are either from Maryland or Virginia: $\\forall x, UMBC(x) \\Rightarrow (MD(x) \\lor VA(x))$\n",
    "    - No robot is human (All robots are not human):\n",
    "    $\\forall x, Robot(x) \\Rightarrow \\neg Human(x) \\equiv \\forall x, Human(x) \\Rightarrow \\neg Robot(x) \\equiv \\neg \\exists x, Robot(x) \\land Human(x)$\n",
    "        - Notice that equivalencies here refer to the fact that we can express it in different ways.\n",
    "    - Only one UMBC student took CMSC471 in Fall 2019:\n",
    "    $\\exists x, UMBC(x) \\land Takes(x, CMSC471, Fall2019) \\land \\forall y, y\\neq x \\Rightarrow \\neg Takes(x, CMSC471, Fall2019)$"
   ]
  },
  {
   "cell_type": "markdown",
   "metadata": {
    "slideshow": {
     "slide_type": "slide"
    }
   },
   "source": [
    "<h1><center>CSP Review</center></h1>\n",
    "\n",
    "  * $X$ is a set of variables $\\{X_1, X_2, ... X_n\\}$\n",
    "  \n",
    "  \n",
    "  * $D$ is a set of domains $\\{D_1, D_2, ... D_n\\}$, one for each variable\n",
    "  \n",
    "  \n",
    "  * Each domain $D_i$ consists of a set of allowable values $\\{v_1, v_2, ... v_k\\}$\n",
    "  \n",
    "  \n",
    "  * $C$ is a set of constraints $\\{C_1, C_2, ... C_m\\}$ that specify allowable combinations of values\n",
    "  \n",
    "  \n",
    "  * **Solution**: assignment of values to all variables (complete) such that no constraint is violated (consistent).\n",
    "  \n",
    "  \n",
    "  * A solution must be a <b>complete</b> and <b>consistent</b> assignment."
   ]
  },
  {
   "cell_type": "markdown",
   "metadata": {
    "slideshow": {
     "slide_type": "slide"
    }
   },
   "source": [
    "<h1><center>Improving Backtracking Efficiency in Solving CSP</center></h1>\n",
    "\n",
    "Here are some standard techniques to improve the efficiency of backtracking:\n",
    "\n",
    "- Can we detect inevitable failure early? <b>Forward checking</b>.\n",
    "\n",
    "\n",
    "- Which variable should be assigned next? <b>Most constrained variable (aka Mimimum Remianing Values or MRV) & Most constraining variable</b>.\n",
    "\n",
    "\n",
    "- In what order should its values be tried? <b>Least constraining value</b>."
   ]
  },
  {
   "cell_type": "markdown",
   "metadata": {
    "slideshow": {
     "slide_type": "slide"
    }
   },
   "source": [
    "<h1><center>Arc Consistency - Definition</center></h1>\n",
    "\n",
    "- A constraint C_xy is arc consistent w.r.t. x if for each value $v$ in the domain of x, there is an allowed value of y\n",
    "\n",
    "\n",
    "- Similarly, define C_xy as arc consistent w.r.t. y\n",
    "\n",
    "\n",
    "- Binary CSP is arc consistent iff every constraint C_xy is arc consistent w.r.t. x as well as y\n",
    "\n",
    "\n",
    "- When a CSP is not arc consistent, we might be able to make it arc consistent by using the AC3 algorithm – also called enforcing arc consistency.\n",
    "\n",
    "- Like backtracking, there is no guarantee for AC3 to find a consistent solution."
   ]
  },
  {
   "cell_type": "markdown",
   "metadata": {
    "slideshow": {
     "slide_type": "slide"
    }
   },
   "source": [
    "<h1><center>CSP Arc Consistency Example</center></h1>\n",
    "\n",
    "<center><img src=\"img/csp-arc-ex.png\" align=\"center\"/></center>"
   ]
  },
  {
   "cell_type": "markdown",
   "metadata": {
    "slideshow": {
     "slide_type": "slide"
    }
   },
   "source": [
    "<h1><center>Alpha-Beta Pruning</center></h1>\n",
    "\n",
    "Practice as much as you can!\n",
    "http://inst.eecs.berkeley.edu/~cs61b/fa14/ta-materials/apps/ab_tree_practice/"
   ]
  },
  {
   "cell_type": "markdown",
   "metadata": {
    "slideshow": {
     "slide_type": "slide"
    }
   },
   "source": [
    "<h1><center>Informed and Uninformed Search</center></h1>\n",
    "\n",
    "- Refer to [Informed Search Slides](https://nbviewer.jupyter.org/github/fereydoonvafaei/UMBC-CMSC-471-Fall-2019/blob/master/Session8-Tue-Sep24/A%2A-Heuristic-Functions.slides.html#/) and [Uninformed Search](https://nbviewer.jupyter.org/github/fereydoonvafaei/UMBC-CMSC-471-Fall-2019/blob/master/Session5-Thu-Sep12/Session5-Thu-Sep12.slidesv2.html#/) slides, review class-activities for A* and heusristics, admissibility and consistency, and review [Assignment-1](https://nbviewer.jupyter.org/github/fereydoonvafaei/UMBC-CMSC-471-Fall-2019/blob/master/Assignment-1/Assignment-1.0.ipynb) for BFS/DFS (visited nodes vs the solution).\n",
    "\n",
    "- [Comparison table of informed search](https://nbviewer.jupyter.org/github/fereydoonvafaei/UMBC-CMSC-471-Fall-2019/blob/master/Session8-Tue-Sep24/A%2A-Heuristic-Functions.slides.html#/7) is extremely important!"
   ]
  },
  {
   "cell_type": "markdown",
   "metadata": {
    "slideshow": {
     "slide_type": "slide"
    }
   },
   "source": [
    "<h1><center>Study Well and Believe in Yourself!</center></h1>\n",
    "\n",
    "\n",
    "<h1><center>Good Luck!</center></h1>"
   ]
  }
 ],
 "metadata": {
  "celltoolbar": "Slideshow",
  "kernelspec": {
   "display_name": "Python 3",
   "language": "python",
   "name": "python3"
  },
  "language_info": {
   "codemirror_mode": {
    "name": "ipython",
    "version": 3
   },
   "file_extension": ".py",
   "mimetype": "text/x-python",
   "name": "python",
   "nbconvert_exporter": "python",
   "pygments_lexer": "ipython3",
   "version": "3.7.4"
  }
 },
 "nbformat": 4,
 "nbformat_minor": 2
}
